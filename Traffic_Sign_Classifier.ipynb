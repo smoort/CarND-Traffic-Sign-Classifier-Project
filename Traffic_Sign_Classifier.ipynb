{
 "cells": [
  {
   "cell_type": "markdown",
   "metadata": {
    "deletable": true,
    "editable": true
   },
   "source": [
    "# Self-Driving Car Engineer Nanodegree\n",
    "\n",
    "## Deep Learning\n",
    "\n",
    "## Project: Build a Traffic Sign Recognition Classifier\n",
    "\n",
    "In this notebook, a template is provided for you to implement your functionality in stages, which is required to successfully complete this project. If additional code is required that cannot be included in the notebook, be sure that the Python code is successfully imported and included in your submission if necessary. \n",
    "\n",
    "> **Note**: Once you have completed all of the code implementations, you need to finalize your work by exporting the iPython Notebook as an HTML document. Before exporting the notebook to html, all of the code cells need to have been run so that reviewers can see the final implementation and output. You can then export the notebook by using the menu above and navigating to  \\n\",\n",
    "    \"**File -> Download as -> HTML (.html)**. Include the finished document along with this notebook as your submission. \n",
    "\n",
    "In addition to implementing code, there is a writeup to complete. The writeup should be completed in a separate file, which can be either a markdown file or a pdf document. There is a [write up template](https://github.com/udacity/CarND-Traffic-Sign-Classifier-Project/blob/master/writeup_template.md) that can be used to guide the writing process. Completing the code template and writeup template will cover all of the [rubric points](https://review.udacity.com/#!/rubrics/481/view) for this project.\n",
    "\n",
    "The [rubric](https://review.udacity.com/#!/rubrics/481/view) contains \"Stand Out Suggestions\" for enhancing the project beyond the minimum requirements. The stand out suggestions are optional. If you decide to pursue the \"stand out suggestions\", you can include the code in this Ipython notebook and also discuss the results in the writeup file.\n",
    "\n",
    "\n",
    ">**Note:** Code and Markdown cells can be executed using the **Shift + Enter** keyboard shortcut. In addition, Markdown cells can be edited by typically double-clicking the cell to enter edit mode."
   ]
  },
  {
   "cell_type": "markdown",
   "metadata": {
    "deletable": true,
    "editable": true
   },
   "source": [
    "---\n",
    "## Step 0: Load The Data"
   ]
  },
  {
   "cell_type": "code",
   "execution_count": null,
   "metadata": {
    "collapsed": false,
    "deletable": true,
    "editable": true
   },
   "outputs": [],
   "source": [
    "### Importing necessary libraries\n",
    "\n",
    "import matplotlib.image as mpimg        # Needed to handle images\n",
    "import numpy as np                      # Needed for general python array functions\n",
    "import matplotlib.pyplot as plt         # Needed to plot images for data visualization\n",
    "import matplotlib.pyplot as plt1        # Needed to plot images for data visualization\n",
    "import cv2                              # Needed for image visualization and pre-processing functions\n",
    "import os                               # Needed for file handling functions\n",
    "import tensorflow as tf                 # Needed to use Tensor Flow libraries\n",
    "import datetime                         # Needed for printing timestamp\n",
    "from sklearn.utils import shuffle       # Used to shuffle training data\n",
    "from tensorflow.contrib.layers import flatten    # Used to flatten multi-dimensional array to 1 dimension\n",
    "\n",
    "\n",
    "print('All modules imported.')"
   ]
  },
  {
   "cell_type": "code",
   "execution_count": null,
   "metadata": {
    "collapsed": false,
    "deletable": true,
    "editable": true
   },
   "outputs": [],
   "source": [
    "### Loading data from pickle file\n",
    "\n",
    "import pickle                                   # Load pickled data\n",
    "from sklearn.model_selection import train_test_split\n",
    "\n",
    "training_file = 'train.p'\n",
    "validation_file='valid.p'\n",
    "testing_file = 'test.p'\n",
    "\n",
    "with open(training_file, mode='rb') as f:\n",
    "    train = pickle.load(f)\n",
    "with open(validation_file, mode='rb') as f:\n",
    "    valid = pickle.load(f)\n",
    "with open(testing_file, mode='rb') as f:\n",
    "    test = pickle.load(f)\n",
    "    \n",
    "X_train, y_train = train['features'], train['labels']\n",
    "X_valid, y_valid = valid['features'], valid['labels']\n",
    "#X_train, X_valid, y_train, y_valid = train_test_split(X_train, y_train, test_size=0.15, random_state=42)\n",
    "X_test, y_test = test['features'], test['labels']\n",
    "\n",
    "print()\n",
    "print('~~~~~~~~~~~~~~~~~~~~~~~~~~~~~~~~~~~~~~~~~~~~~~~~~~~~~~~~~~~~~~~~~~~~~~~~~~~~~~~~~~~~')\n",
    "print('INPUT FILE CHARACTERISTICS')\n",
    "print('~~~~~~~~~~~~~~~~~~~~~~~~~~~~~~~~~~~~~~~~~~~~~~~~~~~~~~~~~~~~~~~~~~~~~~~~~~~~~~~~~~~~')\n",
    "print()\n",
    "print('Training file =', X_train.shape)\n",
    "print('Validation file =', X_valid.shape)\n",
    "print('Test file =', X_test.shape)\n",
    "print()\n",
    "\n",
    "print('All data loaded from pickle file.')"
   ]
  },
  {
   "cell_type": "markdown",
   "metadata": {
    "deletable": true,
    "editable": true
   },
   "source": [
    "---\n",
    "\n",
    "## Step 1: Dataset Summary & Exploration\n",
    "\n",
    "The pickled data is a dictionary with 4 key/value pairs:\n",
    "\n",
    "- `'features'` is a 4D array containing raw pixel data of the traffic sign images, (num examples, width, height, channels).\n",
    "- `'labels'` is a 1D array containing the label/class id of the traffic sign. The file `signnames.csv` contains id -> name mappings for each id.\n",
    "- `'sizes'` is a list containing tuples, (width, height) representing the original width and height the image.\n",
    "- `'coords'` is a list containing tuples, (x1, y1, x2, y2) representing coordinates of a bounding box around the sign in the image. **THESE COORDINATES ASSUME THE ORIGINAL IMAGE. THE PICKLED DATA CONTAINS RESIZED VERSIONS (32 by 32) OF THESE IMAGES**\n",
    "\n",
    "Complete the basic data summary below. Use python, numpy and/or pandas methods to calculate the data summary rather than hard coding the results. For example, the [pandas shape method](http://pandas.pydata.org/pandas-docs/stable/generated/pandas.DataFrame.shape.html) might be useful for calculating some of the summary results. "
   ]
  },
  {
   "cell_type": "markdown",
   "metadata": {
    "deletable": true,
    "editable": true
   },
   "source": [
    "### Provide a Basic Summary of the Data Set Using Python, Numpy and/or Pandas"
   ]
  },
  {
   "cell_type": "code",
   "execution_count": null,
   "metadata": {
    "collapsed": false,
    "deletable": true,
    "editable": true
   },
   "outputs": [],
   "source": [
    "### Get Data characteristics\n",
    "\n",
    "# Number of training examples\n",
    "n_train = len(X_train)\n",
    "\n",
    "# Number of validation examples\n",
    "n_validation = len(X_valid)\n",
    "\n",
    "# Number of testing examples.\n",
    "n_test = len(X_test)\n",
    "\n",
    "# Shape of an traffic sign image\n",
    "image_shape = [X_train[0].shape]\n",
    "\n",
    "# Unique classes/labels in the dataset.\n",
    "n_classes = np.unique(y_train).shape\n",
    "\n",
    "print()\n",
    "print('~~~~~~~~~~~~~~~~~~~~~~~~~~~~~~~~~~~~~~~~~~~~~~~~~~~~~~~~~~~~~~~~~~~~~~~~~~~~~~~~~~~~')\n",
    "print('INPUT DATA CHARACTERISTICS')\n",
    "print('~~~~~~~~~~~~~~~~~~~~~~~~~~~~~~~~~~~~~~~~~~~~~~~~~~~~~~~~~~~~~~~~~~~~~~~~~~~~~~~~~~~~')\n",
    "print()\n",
    "print(\"Number of training examples =\", n_train)\n",
    "print(\"Number of validation examples =\", n_validation)\n",
    "print(\"Number of testing examples =\", n_test)\n",
    "print(\"Image data shape =\", image_shape)\n",
    "print(\"Number of classes =\", n_classes)"
   ]
  },
  {
   "cell_type": "markdown",
   "metadata": {
    "deletable": true,
    "editable": true
   },
   "source": [
    "### Include an exploratory visualization of the dataset"
   ]
  },
  {
   "cell_type": "markdown",
   "metadata": {
    "deletable": true,
    "editable": true
   },
   "source": [
    "Visualize the German Traffic Signs Dataset using the pickled file(s). This is open ended, suggestions include: plotting traffic sign images, plotting the count of each sign, etc. \n",
    "\n",
    "The [Matplotlib](http://matplotlib.org/) [examples](http://matplotlib.org/examples/index.html) and [gallery](http://matplotlib.org/gallery.html) pages are a great resource for doing visualizations in Python.\n",
    "\n",
    "**NOTE:** It's recommended you start with something simple first. If you wish to do more, come back to it after you've completed the rest of the sections. It can be interesting to look at the distribution of classes in the training, validation and test set. Is the distribution the same? Are there more examples of some classes than others?"
   ]
  },
  {
   "cell_type": "code",
   "execution_count": null,
   "metadata": {
    "collapsed": false,
    "deletable": true,
    "editable": true
   },
   "outputs": [],
   "source": [
    "### Data visualization\n",
    "\n",
    "# Visualizations will be shown in the notebook\n",
    "%matplotlib inline        \n",
    "\n",
    "print('~~~~~~~~~~~~~~~~~~~~~~~~~~~~~~~~~~~~~~~~~~~~~~~~~~~~~~~~~~~~~~~~~~~~~~~~~~~~~~~~~~~~')\n",
    "print('VISUALIZING A SAMPLE IMAGE TO MAKE SURE FILE IS NOT CORRUPTED')\n",
    "print('~~~~~~~~~~~~~~~~~~~~~~~~~~~~~~~~~~~~~~~~~~~~~~~~~~~~~~~~~~~~~~~~~~~~~~~~~~~~~~~~~~~~')\n",
    "print('Label =', y_train[500])\n",
    "plt.imshow(X_train[500])\n",
    "plt.show()\n",
    "\n",
    "print('~~~~~~~~~~~~~~~~~~~~~~~~~~~~~~~~~~~~~~~~~~~~~~~~~~~~~~~~~~~~~~~~~~~~~~~~~~~~~~~~~~~~')\n",
    "print('VISUALIZING TRAINING CLASS DISTRIBUTION')\n",
    "print('~~~~~~~~~~~~~~~~~~~~~~~~~~~~~~~~~~~~~~~~~~~~~~~~~~~~~~~~~~~~~~~~~~~~~~~~~~~~~~~~~~~~')\n",
    "n, bins, patches = plt.hist(y_train, bins=42)\n",
    "plt.title(\"Training Label Histogram\")\n",
    "plt.xlabel(\"Feature\")\n",
    "plt.ylabel(\"Frequency\")\n",
    "plt.axis([0, 43, 0, 2200])\n",
    "plt.grid(True)\n",
    "plt.show()\n",
    "\n",
    "unique, counts = np.unique(y_train, return_counts=True)\n",
    "#print(np.asarray((unique, counts)).T)\n",
    "print(np.asarray((unique, counts)))\n",
    "\n",
    "print('~~~~~~~~~~~~~~~~~~~~~~~~~~~~~~~~~~~~~~~~~~~~~~~~~~~~~~~~~~~~~~~~~~~~~~~~~~~~~~~~~~~~')\n",
    "print('VISUALIZING VALIDATION CLASS DISTRIBUTION')\n",
    "print('~~~~~~~~~~~~~~~~~~~~~~~~~~~~~~~~~~~~~~~~~~~~~~~~~~~~~~~~~~~~~~~~~~~~~~~~~~~~~~~~~~~~')\n",
    "n, bins, patches = plt.hist(y_valid, bins=42)\n",
    "plt.title(\"Validation Label Histogram\")\n",
    "plt.xlabel(\"Feature\")\n",
    "plt.ylabel(\"Frequency\")\n",
    "plt.axis([0, 43, 0, 250])\n",
    "plt.grid(True)\n",
    "plt.show()\n",
    "\n",
    "unique, counts = np.unique(y_valid, return_counts=True)\n",
    "#print(np.asarray((unique, counts)).T)\n",
    "print(np.asarray((unique, counts)))\n",
    "\n",
    "print('  ')\n",
    "print('~~~~~~~~~~~~~~~~~~~~~~~~~~~~~~~~~~~~~~~~~~~~~~~~~~~~~~~~~~~~~~~~~~~~~~~~~~~~~~~~~~~~')\n",
    "print('CHECKING IF ALL LABELS IN TEST SET ARE PRESENT IN TRAINING SET')\n",
    "print('~~~~~~~~~~~~~~~~~~~~~~~~~~~~~~~~~~~~~~~~~~~~~~~~~~~~~~~~~~~~~~~~~~~~~~~~~~~~~~~~~~~~')\n",
    "train_labels = np.unique(y_train)\n",
    "test_labels = np.unique(y_test)\n",
    "label_check = train_labels - test_labels\n",
    "print('Training labels are ', train_labels)\n",
    "print('Training labels are ', test_labels)\n",
    "\n",
    "label_quality = True\n",
    "for x in label_check : \n",
    "    if x > 0 : \n",
    "        print('Training dataset has more labels')\n",
    "        label_quality = False\n",
    "    if x < 0 :\n",
    "        print('Testing dataset has more labels')\n",
    "        label_quality = False\n",
    "\n",
    "x = train_labels\n",
    "y = test_labels\n",
    "data = np.vstack([x, y]).T\n",
    "bins = np.linspace(0, 42)\n",
    "\n",
    "plt1.hist(data, bins, alpha=0.7, label=['train label', 'test label'])\n",
    "plt1.legend(loc='upper right')\n",
    "plt1.show()\n",
    "\n",
    "print('**********************************************************')\n",
    "if label_quality : \n",
    "    print('GOOD NEWS : Training and Testing datasets have same labels')\n",
    "else :\n",
    "    print('BAD NEWS : Training and Testing datasets have different labels')\n",
    "\n",
    "    print('**********************************************************')"
   ]
  },
  {
   "cell_type": "code",
   "execution_count": null,
   "metadata": {
    "collapsed": false,
    "deletable": true,
    "editable": true
   },
   "outputs": [],
   "source": [
    "###  Visualizing images for a given label\n",
    "\n",
    "i=0\n",
    "j=1\n",
    "label = 5\n",
    "display_count = 1\n",
    "print(len(y_train))\n",
    "for i in range(len(y_train)) :\n",
    "    if y_train [i] == label:\n",
    "        plt.imshow(X_train[i])\n",
    "        plt.show()\n",
    "        j = j + 1\n",
    "    if j > display_count : break\n",
    "\n",
    "        \n",
    "i=0\n",
    "j=1\n",
    "print(len(y_valid))\n",
    "for i in range(len(y_valid)) :\n",
    "    if y_valid [i] == label:\n",
    "        ni = cv2.cvtColor(X_valid[i], cv2.COLOR_RGB2YCrCb)\n",
    "        plt.imshow(X_valid[i])\n",
    "        plt.show()\n",
    "        j = j + 1\n",
    "    if j > display_count : break"
   ]
  },
  {
   "cell_type": "code",
   "execution_count": null,
   "metadata": {
    "collapsed": false,
    "deletable": true,
    "editable": true
   },
   "outputs": [],
   "source": [
    "### Creating jittered images.\n",
    "\n",
    "# Most of the code below has been reused from Vivek Yadav's code described in his blog post below :\n",
    "# medium.com/@vivek.yadav/dealing-with-unbalanced-data-generating-additional-data-by-jittering-the-original-image-7497fe2119c3\n",
    "\n",
    "\n",
    "#***************************************************************************************\n",
    "#    Title: Image Augumentaion\n",
    "#    Author: Vivek Yadav\n",
    "#    Availability: https://github.com/vxy10/ImageAugmentation\n",
    "#\n",
    "#**************************************************************************************/\n",
    "\n",
    "import matplotlib.gridspec as gridspec\n",
    "\n",
    "%matplotlib inline\n",
    "import matplotlib.image as mpimg\n",
    "\n",
    "\n",
    "def augment_brightness_camera_images(image):\n",
    "    image1 = cv2.cvtColor(image,cv2.COLOR_RGB2HSV)\n",
    "    random_bright = .25+np.random.uniform()\n",
    "    #print(random_bright)\n",
    "    image1[:,:,2] = image1[:,:,2]*random_bright\n",
    "    image1 = cv2.cvtColor(image1,cv2.COLOR_HSV2RGB)\n",
    "    return image1\n",
    "    \n",
    "\n",
    "def transform_image(img,ang_range,shear_range,trans_range,brightness=0):\n",
    "    '''\n",
    "    This function transforms images to generate new images.\n",
    "    The function takes in following arguments,\n",
    "    1- Image\n",
    "    2- ang_range: Range of angles for rotation\n",
    "    3- shear_range: Range of values to apply affine transform to\n",
    "    4- trans_range: Range of values to apply translations over.\n",
    "\n",
    "    A Random uniform distribution is used to generate different parameters for transformation\n",
    "\n",
    "    '''\n",
    "    # Rotation\n",
    "\n",
    "    ang_rot = np.random.uniform(ang_range)-ang_range/2\n",
    "    rows,cols,ch = img.shape    \n",
    "    Rot_M = cv2.getRotationMatrix2D((cols/2,rows/2),ang_rot,1)\n",
    "\n",
    "    # Translation\n",
    "    tr_x = trans_range*np.random.uniform()-trans_range/2\n",
    "    tr_y = trans_range*np.random.uniform()-trans_range/2\n",
    "    Trans_M = np.float32([[1,0,tr_x],[0,1,tr_y]])\n",
    "\n",
    "    # Shear\n",
    "    pts1 = np.float32([[5,5],[20,5],[5,20]])\n",
    "\n",
    "    pt1 = 5+shear_range*np.random.uniform()-shear_range/2\n",
    "    pt2 = 20+shear_range*np.random.uniform()-shear_range/2\n",
    "\n",
    "    # Brightness\n",
    "\n",
    "\n",
    "    pts2 = np.float32([[pt1,5],[pt2,pt1],[5,pt2]])\n",
    "\n",
    "    shear_M = cv2.getAffineTransform(pts1,pts2)\n",
    "\n",
    "    img = cv2.warpAffine(img,Rot_M,(cols,rows))\n",
    "    img = cv2.warpAffine(img,Trans_M,(cols,rows))\n",
    "    img = cv2.warpAffine(img,shear_M,(cols,rows))\n",
    "\n",
    "    if brightness == 1:\n",
    "      img = augment_brightness_camera_images(img)\n",
    "\n",
    "    return img\n",
    "\n",
    "\"\"\"\n",
    "image = mpimg.imread('inImg//00SpeedL20.jpg')\n",
    "image = mpimg.imread('inImg//visualize_cnn.png')\n",
    "\n",
    "plt.imshow(image);\n",
    "plt.axis('off');\n",
    "\n",
    "gs1 = gridspec.GridSpec(10, 10)\n",
    "gs1.update(wspace=0.01, hspace=0.02) # set the spacing between axes.\n",
    "plt.figure(figsize=(12,12))\n",
    "for i in range(100):\n",
    "    ax1 = plt.subplot(gs1[i])\n",
    "    ax1.set_xticklabels([])\n",
    "    ax1.set_yticklabels([])\n",
    "    ax1.set_aspect('equal')\n",
    "    img = transform_image(image,20,10,5,brightness=1)\n",
    "\n",
    "    plt.subplot(10,10,i+1)\n",
    "    plt.imshow(img)\n",
    "    plt.axis('off')\n",
    "\n",
    "j = 2\n",
    "plt.show()\n",
    "imgName = 'outImg//' + 'filename-' + str(j) + '.jpg'\n",
    "mpimg.imsave(imgName, image)\n",
    "\n",
    "\"\"\"    \n",
    "print()"
   ]
  },
  {
   "cell_type": "code",
   "execution_count": null,
   "metadata": {
    "collapsed": false,
    "deletable": true,
    "editable": true
   },
   "outputs": [],
   "source": [
    "### Augumenting Training Data\n",
    "\n",
    "AX_train = np.copy(X_train)\n",
    "Ay_train = np.copy(y_train)\n",
    "print(AX_train.shape)\n",
    "print(Ay_train.shape)\n",
    "\n",
    "\n",
    "# Balancing the image distribution by filling with jittered images\n",
    "\n",
    "imgs_to_fix = (0, 6, 14, 16, 19, 20, 21, 22, 23, 24, 27, 28, 29, 30, 32, \n",
    "               34, 36, 37, 39, 40, 41, 42, 15, 17, 26, 31, 33)\n",
    "imgs_jit_factor = (9, 4, 2, 4, 9, 5, 6, 4, 3, 6, 7, 3, 6, 4, 7, \n",
    "                   4, 4, 9, 6, 5, 7, 7, 2, 1, 2, 2, 2)\n",
    "imgs_count = (1620, 1440, 1380, 1440, 1620, 1500, 1620, 1320, 1350, 1440, 1470, 1440, 1440, 1560, 1470, \n",
    "             1440, 1320, 1620, 1620, 1500, 1470, 1470, 1080, 990, 1080, 1380, 1198)\n",
    "\n",
    "for i, label in enumerate(imgs_to_fix):\n",
    "    new_images = np.zeros(shape=(imgs_count[i], 32,32,3))\n",
    "    new_labels = np.empty(imgs_count[i])\n",
    "    new_labels.fill(label)\n",
    "    l = 0\n",
    "    for j, image in enumerate(AX_train):\n",
    "        if Ay_train[j] == label:\n",
    "            for k in range(imgs_jit_factor[i]):\n",
    "                new_image = transform_image(np.uint8(image),20,10,5,brightness=1)\n",
    "                new_images [l] = new_image\n",
    "                l = l + 1\n",
    "    AX_train = np.concatenate((AX_train, new_images), axis=0)\n",
    "    Ay_train = np.concatenate((Ay_train, new_labels), axis=0)\n",
    "\n",
    "print(AX_train.shape)\n",
    "print(Ay_train.shape)\n",
    "\n",
    "\n",
    "#  Adding fresh data downloaded from internet to the training set along with jittering\n",
    "\n",
    "imgs_to_create = 500\n",
    "\n",
    "indir = 'inImg' # folder to iterate\n",
    "outdir = 'outImg//'\n",
    "\n",
    "for filename in os.listdir(indir):\n",
    "\n",
    "    infname = os.path.join(indir, filename)\n",
    "    image = cv2.imread(infname)\n",
    "    image = cv2.cvtColor(image,cv2.COLOR_BGR2RGB)\n",
    "    label = int(filename[:2])\n",
    "    image_count = imgs_to_create\n",
    "#    print(label, ',', image_count)\n",
    "    \n",
    "    new_images = np.zeros(shape=(image_count, 32,32,3))\n",
    "    new_labels = np.empty(image_count)\n",
    "    new_labels.fill(label)\n",
    "    \n",
    "    if image_count > 0:\n",
    "        for i in range(image_count):\n",
    "            new_image = transform_image(image,20,10,5,brightness=1)\n",
    "            new_images [i] = new_image\n",
    "            outfname = outdir + 'label' + str(label) + '-' + str(i) + '.jpg'\n",
    "            cv2.imwrite(outfname, new_image)\n",
    "     \n",
    "    AX_train = np.concatenate((AX_train, new_images), axis=0)\n",
    "    Ay_train = np.concatenate((Ay_train, new_labels), axis=0)\n",
    "\n",
    "print(AX_train.shape)\n",
    "print(Ay_train.shape)\n",
    "\n",
    "print('~~~~~~~~~~~~~~~~~~~~~~~~~~~~~~~~~~~~~~~~~~~~~~~~~~~~~~~~~~~~~~~~~~~~~~~~~~~~~~~~~~~~')\n",
    "print('VISUALIZING TRAINING CLASS DISTRIBUTION POST DATA AUGUMENTATION')\n",
    "print('~~~~~~~~~~~~~~~~~~~~~~~~~~~~~~~~~~~~~~~~~~~~~~~~~~~~~~~~~~~~~~~~~~~~~~~~~~~~~~~~~~~~')\n",
    "\n",
    "n, bins, patches = plt.hist(Ay_train, bins=43)\n",
    "plt.title(\"Training Label Histogram\")\n",
    "plt.xlabel(\"Feature\")\n",
    "plt.ylabel(\"Frequency\")\n",
    "plt.axis([0, 43, 0, 2500])\n",
    "plt.grid(True)\n",
    "plt.show()"
   ]
  },
  {
   "cell_type": "code",
   "execution_count": null,
   "metadata": {
    "collapsed": false,
    "deletable": true,
    "editable": true
   },
   "outputs": [],
   "source": [
    "### Get label counts\n",
    "\n",
    "unique, counts = np.unique(Ay_train, return_counts=True)\n",
    "print(np.asarray((unique, counts)).T)\n",
    "#print(np.asarray((unique, counts)))"
   ]
  },
  {
   "cell_type": "markdown",
   "metadata": {
    "deletable": true,
    "editable": true
   },
   "source": [
    "----\n",
    "\n",
    "## Step 2: Design and Test a Model Architecture\n",
    "\n",
    "Design and implement a deep learning model that learns to recognize traffic signs. Train and test your model on the [German Traffic Sign Dataset](http://benchmark.ini.rub.de/?section=gtsrb&subsection=dataset).\n",
    "\n",
    "The LeNet-5 implementation shown in the [classroom](https://classroom.udacity.com/nanodegrees/nd013/parts/fbf77062-5703-404e-b60c-95b78b2f3f9e/modules/6df7ae49-c61c-4bb2-a23e-6527e69209ec/lessons/601ae704-1035-4287-8b11-e2c2716217ad/concepts/d4aca031-508f-4e0b-b493-e7b706120f81) at the end of the CNN lesson is a solid starting point. You'll have to change the number of classes and possibly the preprocessing, but aside from that it's plug and play! \n",
    "\n",
    "With the LeNet-5 solution from the lecture, you should expect a validation set accuracy of about 0.89. To meet specifications, the validation set accuracy will need to be at least 0.93. It is possible to get an even higher accuracy, but 0.93 is the minimum for a successful project submission. \n",
    "\n",
    "There are various aspects to consider when thinking about this problem:\n",
    "\n",
    "- Neural network architecture (is the network over or underfitting?)\n",
    "- Play around preprocessing techniques (normalization, rgb to grayscale, etc)\n",
    "- Number of examples per label (some have more than others).\n",
    "- Generate fake data.\n",
    "\n",
    "Here is an example of a [published baseline model on this problem](http://yann.lecun.com/exdb/publis/pdf/sermanet-ijcnn-11.pdf). It's not required to be familiar with the approach used in the paper but, it's good practice to try to read papers like these."
   ]
  },
  {
   "cell_type": "markdown",
   "metadata": {
    "deletable": true,
    "editable": true
   },
   "source": [
    "### Pre-process the Data Set (normalization, grayscale, etc.)"
   ]
  },
  {
   "cell_type": "markdown",
   "metadata": {
    "deletable": true,
    "editable": true
   },
   "source": [
    "Minimally, the image data should be normalized so that the data has mean zero and equal variance. For image data, `(pixel - 128)/ 128` is a quick way to approximately normalize the data and can be used in this project. \n",
    "\n",
    "Other pre-processing steps are optional. You can try different techniques to see if it improves performance. \n",
    "\n",
    "Use the code cell (or multiple code cells, if necessary) to implement the first step of your project."
   ]
  },
  {
   "cell_type": "code",
   "execution_count": null,
   "metadata": {
    "collapsed": false,
    "deletable": true,
    "editable": true
   },
   "outputs": [],
   "source": [
    "### Preprocessing the data. \n",
    "\n",
    "# Convert to grayscale\n",
    "\n",
    "GX_train = AX_train\n",
    "GX_valid = X_valid\n",
    "GX_test = X_test\n",
    "\n",
    "grayscale_convertor = np.array([[0.2989],[0.5870],[0.1140]])\n",
    "\n",
    "def grayout_image(img):\n",
    "    return np.dot(img[:,:,:,],grayscale_convertor)\n",
    "    \n",
    "\n",
    "GX_train = np.zeros(shape=(len(AX_train), 32,32,1))\n",
    "GX_train[:,:,:,] = grayout_image(AX_train)\n",
    "\n",
    "GX_valid = np.zeros(shape=(len(X_valid), 32,32,1))\n",
    "GX_valid[:,:,:,] = grayout_image(X_valid)\n",
    "    \n",
    "GX_test = np.zeros(shape=(len(X_test), 32,32,1))\n",
    "GX_test[:,:,:,] = grayout_image(X_test)\n",
    "#GX_test[:,:,:,] = np.dot(X_test[:,:,:,],grayscale_convertor)\n",
    "\n",
    "\n",
    "# Normalize image\n",
    "    \n",
    "def normalize_image(image_data):\n",
    "    return ((image_data / 255) - 0.5)\n",
    "\n",
    "GX_train = normalize_image(GX_train)\n",
    "GX_valid = normalize_image(GX_valid)\n",
    "GX_test = normalize_image(GX_test)\n",
    " \n",
    "\n",
    "print(GX_train.shape)\n",
    "print(GX_valid.shape)\n",
    "print('Image data preprocessing complete')"
   ]
  },
  {
   "cell_type": "markdown",
   "metadata": {
    "deletable": true,
    "editable": true
   },
   "source": [
    "### Model Architecture"
   ]
  },
  {
   "cell_type": "code",
   "execution_count": null,
   "metadata": {
    "collapsed": false,
    "deletable": true,
    "editable": true
   },
   "outputs": [],
   "source": [
    "### LeNet model \n",
    "\n",
    "# Hyperparameters\n",
    "mu = 0\n",
    "sigma = 0.1\n",
    "\n",
    "def LeNet(x):    \n",
    "\n",
    "\n",
    "    # Layer 1: Convolutional. Input = 32x32x1. Output = 28x28x32.\n",
    "    conv1_W = tf.Variable(tf.truncated_normal(shape=(5, 5, 1, 32), mean = mu, stddev = sigma))\n",
    "    conv1_b = tf.Variable(tf.zeros(32))\n",
    "    conv1   = tf.nn.conv2d(x, conv1_W, strides=[1, 1, 1, 1], padding='VALID') + conv1_b\n",
    "\n",
    "    # ReLU Activation.\n",
    "    conv1 = tf.nn.relu(conv1)\n",
    "\n",
    "    # Max Pooling. Input = 28x28x32. Output = 14x14x32.\n",
    "    conv1 = tf.nn.max_pool(conv1, ksize=[1, 2, 2, 1], strides=[1, 2, 2, 1], padding='VALID')\n",
    "\n",
    "    # Layer 2: Convolutional. Input = = 14x14x32. Output = 10x10x64.\n",
    "    conv2_W = tf.Variable(tf.truncated_normal(shape=(5, 5, 32, 64), mean = mu, stddev = sigma))\n",
    "    conv2_b = tf.Variable(tf.zeros(64))\n",
    "    conv2   = tf.nn.conv2d(conv1, conv2_W, strides=[1, 1, 1, 1], padding='VALID') + conv2_b\n",
    "\n",
    "    # ReLU Activation.\n",
    "    conv2 = tf.nn.relu(conv2)\n",
    "\n",
    "    # Max Pooling. Input = 10x10x128. Output = 5x5x128.\n",
    "#    conv2 = tf.nn.max_pool(conv2, ksize=[1, 2, 2, 1], strides=[1, 2, 2, 1], padding='VALID')\n",
    "\n",
    "    # Layer 3: Convolutional. Input = = 10x10x64. Output = 10x10x128.\n",
    "    conv3_W = tf.Variable(tf.truncated_normal(shape=(1, 1, 64, 128), mean = mu, stddev = sigma))\n",
    "    conv3_b = tf.Variable(tf.zeros(128))\n",
    "    conv3   = tf.nn.conv2d(conv2, conv3_W, strides=[1, 1, 1, 1], padding='VALID') + conv3_b\n",
    "\n",
    "    # ReLU Activation.\n",
    "    conv3 = tf.nn.relu(conv3)\n",
    "\n",
    "    # Max Pooling. Input = 10x10x128. Output = 5x5x128.\n",
    "    conv3 = tf.nn.max_pool(conv3, ksize=[1, 2, 2, 1], strides=[1, 2, 2, 1], padding='VALID')\n",
    "\n",
    "    \n",
    "    # Flatten. Input = 2x2x128. Output = 3200.\n",
    "    fc0   = flatten(conv3)\n",
    "\n",
    "    # Layer 4: Fully Connected. Input = 3200. Output = 512.\n",
    "    fc1_W = tf.Variable(tf.truncated_normal(shape=(3200, 512), mean = mu, stddev = sigma))\n",
    "    fc1_b = tf.Variable(tf.zeros(512))\n",
    "    fc1   = tf.matmul(fc0, fc1_W) + fc1_b\n",
    "\n",
    "    # ReLU Activation.\n",
    "    fc1    = tf.nn.relu(fc1)\n",
    "\n",
    "    # Layer 5: Fully Connected. Input = 512. Output = 256.\n",
    "    fc2_W  = tf.Variable(tf.truncated_normal(shape=(512, 256), mean = mu, stddev = sigma))\n",
    "    fc2_b  = tf.Variable(tf.zeros(256))\n",
    "    fc2    = tf.matmul(fc1, fc2_W) + fc2_b\n",
    "\n",
    "    # ReLU Activation.\n",
    "    fc2    = tf.nn.relu(fc2)\n",
    "\n",
    "    \n",
    "    # Layer 6: Fully Connected. Input = 256. Output = 128.\n",
    "    fc3_W  = tf.Variable(tf.truncated_normal(shape=(256, 128), mean = mu, stddev = sigma))\n",
    "    fc3_b  = tf.Variable(tf.zeros(128))\n",
    "    fc3    = tf.matmul(fc2, fc3_W) + fc3_b\n",
    "\n",
    "    # ReLU Activation.\n",
    "    fc3    = tf.nn.relu(fc3)\n",
    " \n",
    "\n",
    "    # Layer 7: Fully Connected. Input = 128. Output = 43.\n",
    "    fc4_W  = tf.Variable(tf.truncated_normal(shape=(128, 43), mean = mu, stddev = sigma))\n",
    "    fc4_b  = tf.Variable(tf.zeros(43))\n",
    "    logits = tf.matmul(fc3, fc4_W) + fc4_b\n",
    "\n",
    "    return conv1, conv2, conv3, fc1, fc2, fc3, logits"
   ]
  },
  {
   "cell_type": "markdown",
   "metadata": {
    "deletable": true,
    "editable": true
   },
   "source": [
    "### Train, Validate and Test the Model"
   ]
  },
  {
   "cell_type": "markdown",
   "metadata": {
    "deletable": true,
    "editable": true
   },
   "source": [
    "A validation set can be used to assess how well the model is performing. A low accuracy on the training and validation\n",
    "sets imply underfitting. A high accuracy on the training set but low accuracy on the validation set implies overfitting."
   ]
  },
  {
   "cell_type": "code",
   "execution_count": null,
   "metadata": {
    "collapsed": false,
    "deletable": true,
    "editable": true
   },
   "outputs": [],
   "source": [
    "### Training and Validation parameters\n",
    "\n",
    "x = tf.placeholder(tf.float32, (None, 32, 32, 1))\n",
    "y = tf.placeholder(tf.int32, (None))\n",
    "one_hot_y = tf.one_hot(y, 43)\n",
    "\n",
    "# Hyperparameters\n",
    "EPOCHS = 10\n",
    "BATCH_SIZE = 128\n",
    "rate = 0.001\n",
    "\n",
    "c1, c2, c3, fc1, fc2, fc3, logits = LeNet(x)\n",
    "cross_entropy = tf.nn.softmax_cross_entropy_with_logits(labels=one_hot_y, logits=logits)\n",
    "loss_operation = tf.reduce_mean(cross_entropy)\n",
    "optimizer = tf.train.AdamOptimizer(learning_rate = rate)\n",
    "training_operation = optimizer.minimize(loss_operation)\n",
    "\n",
    "correct_prediction = tf.equal(tf.argmax(logits, 1), tf.argmax(one_hot_y, 1))\n",
    "accuracy_operation = tf.reduce_mean(tf.cast(correct_prediction, tf.float32))\n",
    "saver = tf.train.Saver()\n",
    "\n",
    "def evaluate(X_data, y_data):\n",
    "    num_examples = len(X_data)\n",
    "    total_accuracy = 0\n",
    "    sess = tf.get_default_session()\n",
    "    for offset in range(0, num_examples, BATCH_SIZE):\n",
    "        batch_x, batch_y = X_data[offset:offset+BATCH_SIZE], y_data[offset:offset+BATCH_SIZE]\n",
    "        accuracy = sess.run(accuracy_operation, feed_dict={x: batch_x, y: batch_y})\n",
    "        total_accuracy += (accuracy * len(batch_x))\n",
    "    return total_accuracy / num_examples"
   ]
  },
  {
   "cell_type": "code",
   "execution_count": null,
   "metadata": {
    "collapsed": false,
    "deletable": true,
    "editable": true,
    "scrolled": true
   },
   "outputs": [],
   "source": [
    "### Training and Validation of the model\n",
    "\n",
    "training_loss_history = np.zeros(shape=(EPOCHS))\n",
    "validation_accuracy_history = np.zeros(shape=(EPOCHS))\n",
    "\n",
    "with tf.Session() as sess:\n",
    "    sess.run(tf.global_variables_initializer())\n",
    "    num_examples = len(GX_train)\n",
    "\n",
    "    start_time = datetime.datetime.now()\n",
    "    batch_time = datetime.datetime.now()\n",
    "    print('  ')\n",
    "    print('~~~~~~~~~~~~~~~~~~~~~~~~~~~~~~~~~~~~~~~~~~~~~~~~~~~~~~~~~~~~~~~~~~~~~~~~~~~~~~~~~~~~')\n",
    "    print('STARTING TRAINING AT ', start_time)\n",
    "    print('~~~~~~~~~~~~~~~~~~~~~~~~~~~~~~~~~~~~~~~~~~~~~~~~~~~~~~~~~~~~~~~~~~~~~~~~~~~~~~~~~~~~')\n",
    "    print()\n",
    "    print('Execution Parameters ')\n",
    "    print('Weight mean = ', mu, ' sigma = ', sigma)\n",
    "    print('EPOCHS = ', EPOCHS)\n",
    "    print('BATCH_SIZE = ', BATCH_SIZE)\n",
    "    print('Learn rate = ', rate)\n",
    "    print()\n",
    "\n",
    "    for i in range(EPOCHS):\n",
    "        GX_train, Ay_train = shuffle(GX_train, Ay_train)\n",
    "        for offset in range(0, num_examples, BATCH_SIZE):\n",
    "            end = offset + BATCH_SIZE\n",
    "            batch_x, batch_y = GX_train[offset:end], Ay_train[offset:end]\n",
    "            _, loss = sess.run([training_operation, loss_operation], feed_dict={x: batch_x, y: batch_y})\n",
    "        \n",
    "        training_loss_history[i] = loss\n",
    "\n",
    "        validation_accuracy = evaluate(GX_valid, y_valid)\n",
    "        validation_accuracy_history[i] = validation_accuracy\n",
    "        print(datetime.datetime.now() - batch_time, \" EPOCH {} ...\".format(i+1), \"with loss \", loss)\n",
    "        print(\"Validation Accuracy = {:.3f}\".format(validation_accuracy))\n",
    "        print()\n",
    "        batch_time = datetime.datetime.now()\n",
    "    print('  ')\n",
    "    print('~~~~~~~~~~~~~~~~~~~~~~~~~~~~~~~~~~~~~~~~~~~~~~~~~~~~~~~~~~~~~~~~~~~~~~~~~~~~~~~~~~~~')\n",
    "    print('TRAINING COMPLETE AT ', datetime.datetime.now(), ' with execution time of ', datetime.datetime.now() - start_time)\n",
    "    print('~~~~~~~~~~~~~~~~~~~~~~~~~~~~~~~~~~~~~~~~~~~~~~~~~~~~~~~~~~~~~~~~~~~~~~~~~~~~~~~~~~~~')\n",
    "    print()        \n",
    "    saver.save(sess, './lenet')\n",
    "    print(\"Model saved\")\n",
    "    \n",
    "    \n",
    "#    print(\"Testing Accuracy = {:.3f}\".format(testing_accuracy))\n",
    "\n",
    "loss_plot = plt.subplot(2,1,1)\n",
    "loss_plot.set_title('Loss')\n",
    "loss_plot.plot(training_loss_history, 'r', label='Training Loss')\n",
    "loss_plot.plot(validation_accuracy_history, 'b', label='Validation Accuracy')\n",
    "loss_plot.set_xlim([0, EPOCHS])\n",
    "loss_plot.legend(loc=1)\n"
   ]
  },
  {
   "cell_type": "code",
   "execution_count": null,
   "metadata": {
    "collapsed": false,
    "deletable": true,
    "editable": true
   },
   "outputs": [],
   "source": [
    "### Testing the model\n",
    "\n",
    "saver = tf.train.Saver()\n",
    "\n",
    "# Launch the graph\n",
    "with tf.Session() as sess:\n",
    "    saver.restore(sess, './lenet')\n",
    "    \n",
    "    test_accuracy = evaluate(GX_test, y_test)\n",
    "\n",
    "print('Test Accuracy: {}'.format(test_accuracy))"
   ]
  },
  {
   "cell_type": "markdown",
   "metadata": {
    "deletable": true,
    "editable": true
   },
   "source": [
    "---\n",
    "\n",
    "## Step 3: Test a Model on New Images\n",
    "\n",
    "To give yourself more insight into how your model is working, download at least five pictures of German traffic signs from the web and use your model to predict the traffic sign type.\n",
    "\n",
    "You may find `signnames.csv` useful as it contains mappings from the class id (integer) to the actual sign name."
   ]
  },
  {
   "cell_type": "markdown",
   "metadata": {
    "deletable": true,
    "editable": true
   },
   "source": [
    "### Load and Output the Images"
   ]
  },
  {
   "cell_type": "code",
   "execution_count": null,
   "metadata": {
    "collapsed": false,
    "deletable": true,
    "editable": true
   },
   "outputs": [],
   "source": [
    "### Load the images and plot them here.\n",
    "### Feel free to use as many code cells as needed.\n",
    "\n",
    "indir = 'testImgs' # folder to iterate\n",
    "downloaded_images = np.zeros(shape=(5, 32,32,3))\n",
    "downloaded_labels = np.empty(5)\n",
    "\n",
    "di = 0\n",
    "for filename in os.listdir(indir):\n",
    "\n",
    "    infname = os.path.join(indir, filename)\n",
    "    img = cv2.imread(infname)\n",
    "    img = cv2.cvtColor(img,cv2.COLOR_BGR2RGB)\n",
    "    downloaded_images[di] = img\n",
    "    downloaded_labels[di] = int(filename[:2])\n",
    "    print(downloaded_labels[di])\n",
    "    plt.imshow(img)\n",
    "    plt.show()\n",
    "    di += 1"
   ]
  },
  {
   "cell_type": "markdown",
   "metadata": {
    "deletable": true,
    "editable": true
   },
   "source": [
    "### Predict the Sign Type for Each Image"
   ]
  },
  {
   "cell_type": "code",
   "execution_count": null,
   "metadata": {
    "collapsed": false,
    "deletable": true,
    "editable": true
   },
   "outputs": [],
   "source": [
    "### Run the predictions here and use the model to output the prediction for each image.\n",
    "### Make sure to pre-process the images with the same pre-processing pipeline used earlier.\n",
    "\n",
    "g_downloaded_images = np.zeros(shape=(5,32,32,1))\n",
    "g_downloaded_images[:,:,:,] = grayout_image(downloaded_images)\n",
    "g_downloaded_images = normalize_image(g_downloaded_images)\n",
    "\n",
    "\n",
    "saver = tf.train.Saver()\n",
    "#downloaded_images = np.zeros(shape=(5, 43))\n",
    "\n",
    "# Launch the graph\n",
    "with tf.Session() as sess:\n",
    "    saver.restore(sess, './lenet')\n",
    "    \n",
    "    predictions = sess.run(logits, feed_dict={x: g_downloaded_images})\n",
    "#    print('Prediction for image ', i+1, 'is : {}'.format(predictions))\n",
    "    pred = sess.run(tf.argmax(predictions, 1))\n",
    "    print(pred)\n",
    "    smax = sess.run(tf.nn.softmax(predictions))\n",
    "#    print(smax)\n",
    "    print(sess.run(tf.argmax(smax, 1)))\n",
    "    print(sess.run(tf.nn.top_k(tf.constant(smax), k=5)))\n"
   ]
  },
  {
   "cell_type": "markdown",
   "metadata": {
    "deletable": true,
    "editable": true
   },
   "source": [
    "### Analyze Performance"
   ]
  },
  {
   "cell_type": "code",
   "execution_count": null,
   "metadata": {
    "collapsed": false,
    "deletable": true,
    "editable": true
   },
   "outputs": [],
   "source": [
    "### Calculate the accuracy for these 5 new images. \n",
    "### For example, if the model predicted 1 out of 5 signs correctly, it's 20% accurate on these new images.\n",
    "\n",
    "saver = tf.train.Saver()\n",
    "\n",
    "# Launch the graph\n",
    "with tf.Session() as sess:\n",
    "    saver.restore(sess, './lenet')\n",
    "    new_image_accuracy = evaluate(g_downloaded_images, downloaded_labels)\n",
    "    print('Accuracy for images is : {}'.format(new_image_accuracy))"
   ]
  },
  {
   "cell_type": "markdown",
   "metadata": {
    "deletable": true,
    "editable": true
   },
   "source": [
    "### Output Top 5 Softmax Probabilities For Each Image Found on the Web"
   ]
  },
  {
   "cell_type": "markdown",
   "metadata": {
    "deletable": true,
    "editable": true
   },
   "source": [
    "For each of the new images, print out the model's softmax probabilities to show the **certainty** of the model's predictions (limit the output to the top 5 probabilities for each image). [`tf.nn.top_k`](https://www.tensorflow.org/versions/r0.12/api_docs/python/nn.html#top_k) could prove helpful here. \n",
    "\n",
    "The example below demonstrates how tf.nn.top_k can be used to find the top k predictions for each image.\n",
    "\n",
    "`tf.nn.top_k` will return the values and indices (class ids) of the top k predictions. So if k=3, for each sign, it'll return the 3 largest probabilities (out of a possible 43) and the correspoding class ids.\n",
    "\n",
    "Take this numpy array as an example. The values in the array represent predictions. The array contains softmax probabilities for five candidate images with six possible classes. `tk.nn.top_k` is used to choose the three classes with the highest probability:\n",
    "\n",
    "```\n",
    "# (5, 6) array\n",
    "a = np.array([[ 0.24879643,  0.07032244,  0.12641572,  0.34763842,  0.07893497,\n",
    "         0.12789202],\n",
    "       [ 0.28086119,  0.27569815,  0.08594638,  0.0178669 ,  0.18063401,\n",
    "         0.15899337],\n",
    "       [ 0.26076848,  0.23664738,  0.08020603,  0.07001922,  0.1134371 ,\n",
    "         0.23892179],\n",
    "       [ 0.11943333,  0.29198961,  0.02605103,  0.26234032,  0.1351348 ,\n",
    "         0.16505091],\n",
    "       [ 0.09561176,  0.34396535,  0.0643941 ,  0.16240774,  0.24206137,\n",
    "         0.09155967]])\n",
    "```\n",
    "\n",
    "Running it through `sess.run(tf.nn.top_k(tf.constant(a), k=3))` produces:\n",
    "\n",
    "```\n",
    "TopKV2(values=array([[ 0.34763842,  0.24879643,  0.12789202],\n",
    "       [ 0.28086119,  0.27569815,  0.18063401],\n",
    "       [ 0.26076848,  0.23892179,  0.23664738],\n",
    "       [ 0.29198961,  0.26234032,  0.16505091],\n",
    "       [ 0.34396535,  0.24206137,  0.16240774]]), indices=array([[3, 0, 5],\n",
    "       [0, 1, 4],\n",
    "       [0, 5, 1],\n",
    "       [1, 3, 5],\n",
    "       [1, 4, 3]], dtype=int32))\n",
    "```\n",
    "\n",
    "Looking just at the first row we get `[ 0.34763842,  0.24879643,  0.12789202]`, you can confirm these are the 3 largest probabilities in `a`. You'll also notice `[3, 0, 5]` are the corresponding indices."
   ]
  },
  {
   "cell_type": "code",
   "execution_count": null,
   "metadata": {
    "collapsed": true,
    "deletable": true,
    "editable": true
   },
   "outputs": [],
   "source": [
    "### Print out the top five softmax probabilities for the predictions on the German traffic sign images found on the web. \n",
    "### Feel free to use as many code cells as needed.\n",
    "\n"
   ]
  },
  {
   "cell_type": "markdown",
   "metadata": {
    "deletable": true,
    "editable": true
   },
   "source": [
    "### Project Writeup\n",
    "\n",
    "Once you have completed the code implementation, document your results in a project writeup using this [template](https://github.com/udacity/CarND-Traffic-Sign-Classifier-Project/blob/master/writeup_template.md) as a guide. The writeup can be in a markdown or pdf file. "
   ]
  },
  {
   "cell_type": "markdown",
   "metadata": {
    "deletable": true,
    "editable": true
   },
   "source": [
    "> **Note**: Once you have completed all of the code implementations and successfully answered each question above, you may finalize your work by exporting the iPython Notebook as an HTML document. You can do this by using the menu above and navigating to  \\n\",\n",
    "    \"**File -> Download as -> HTML (.html)**. Include the finished document along with this notebook as your submission."
   ]
  },
  {
   "cell_type": "markdown",
   "metadata": {
    "deletable": true,
    "editable": true
   },
   "source": [
    "---\n",
    "\n",
    "## Step 4 (Optional): Visualize the Neural Network's State with Test Images\n",
    "\n",
    " This Section is not required to complete but acts as an additional excersise for understaning the output of a neural network's weights. While neural networks can be a great learning device they are often referred to as a black box. We can understand what the weights of a neural network look like better by plotting their feature maps. After successfully training your neural network you can see what it's feature maps look like by plotting the output of the network's weight layers in response to a test stimuli image. From these plotted feature maps, it's possible to see what characteristics of an image the network finds interesting. For a sign, maybe the inner network feature maps react with high activation to the sign's boundary outline or to the contrast in the sign's painted symbol.\n",
    "\n",
    " Provided for you below is the function code that allows you to get the visualization output of any tensorflow weight layer you want. The inputs to the function should be a stimuli image, one used during training or a new one you provided, and then the tensorflow variable name that represents the layer's state during the training process, for instance if you wanted to see what the [LeNet lab's](https://classroom.udacity.com/nanodegrees/nd013/parts/fbf77062-5703-404e-b60c-95b78b2f3f9e/modules/6df7ae49-c61c-4bb2-a23e-6527e69209ec/lessons/601ae704-1035-4287-8b11-e2c2716217ad/concepts/d4aca031-508f-4e0b-b493-e7b706120f81) feature maps looked like for it's second convolutional layer you could enter conv2 as the tf_activation variable.\n",
    "\n",
    "For an example of what feature map outputs look like, check out NVIDIA's results in their paper [End-to-End Deep Learning for Self-Driving Cars](https://devblogs.nvidia.com/parallelforall/deep-learning-self-driving-cars/) in the section Visualization of internal CNN State. NVIDIA was able to show that their network's inner weights had high activations to road boundary lines by comparing feature maps from an image with a clear path to one without. Try experimenting with a similar test to show that your trained network's weights are looking for interesting features, whether it's looking at differences in feature maps from images with or without a sign, or even what feature maps look like in a trained network vs a completely untrained one on the same sign image.\n",
    "\n",
    "<figure>\n",
    " <img src=\"visualize_cnn.png\" width=\"380\" alt=\"Combined Image\" />\n",
    " <figcaption>\n",
    " <p></p> \n",
    " <p style=\"text-align: center;\"> Your output should look something like this (above)</p> \n",
    " </figcaption>\n",
    "</figure>\n",
    " <p></p> \n"
   ]
  },
  {
   "cell_type": "code",
   "execution_count": null,
   "metadata": {
    "collapsed": false,
    "deletable": true,
    "editable": true
   },
   "outputs": [],
   "source": [
    "### Visualize your network's feature maps here.\n",
    "### Feel free to use as many code cells as needed.\n",
    "\n",
    "# image_input: the test image being fed into the network to produce the feature maps\n",
    "# tf_activation: should be a tf variable name used during your training procedure that represents the calculated state of a specific weight layer\n",
    "# activation_min/max: can be used to view the activation contrast in more detail, by default matplot sets min and max to the actual min and max values of the output\n",
    "# plt_num: used to plot out multiple different weight feature map sets on the same block, just extend the plt number for each new feature map entry\n",
    "\n",
    "def outputFeatureMap(activation, row, column, activation_min=-1, activation_max=-1 ,plt_num=1):\n",
    "\n",
    "    featuremaps = activation.shape[3]\n",
    "    plt.figure(plt_num, figsize=(15,15))\n",
    "    for featuremap in range(featuremaps):\n",
    "        plt.subplot(row,column, featuremap+1) # sets the number of feature maps to show on each row and column\n",
    "        plt.title('FeatureMap ' + str(featuremap)) # displays the feature map number\n",
    "        if activation_min != -1 & activation_max != -1:\n",
    "            plt.imshow(activation[0,:,:, featuremap], interpolation=\"nearest\", vmin =activation_min, vmax=activation_max, cmap=\"gray\")\n",
    "        elif activation_max != -1:\n",
    "            plt.imshow(activation[0,:,:, featuremap], interpolation=\"nearest\", vmax=activation_max, cmap=\"gray\")\n",
    "        elif activation_min !=-1:\n",
    "            plt.imshow(activation[0,:,:, featuremap], interpolation=\"nearest\", vmin=activation_min, cmap=\"gray\")\n",
    "        else:\n",
    "            plt.imshow(activation[0,:,:, featuremap], interpolation=\"nearest\", cmap=\"gray\")\n",
    "\n",
    "img = cv2.imread('testImgs\\\\01SpeedLimit30.jpg')\n",
    "img = cv2.cvtColor(img,cv2.COLOR_BGR2RGB)\n",
    "plt.imshow(img)\n",
    "plt.show()\n",
    "\n",
    "with tf.Session() as sess:\n",
    "    sess.run(tf.global_variables_initializer())\n",
    "    saver.restore(sess, './lenet')\n",
    "    img1 = np.zeros(shape=(1,32,32,1), dtype=np.float32)\n",
    "    img1[0] = g_downloaded_images[0]\n",
    "    c1, c2, c3, fc1, fc2, fc3, _ = LeNet(img1)\n",
    "    init = tf.global_variables_initializer()\n",
    "    sess.run(init)\n",
    "\n",
    "    print('Layer 1')\n",
    "    activation = c1.eval(session=sess)\n",
    "    outputFeatureMap(activation, 8,8)\n",
    "    plt.show()\n",
    "    \n",
    "    print('Layer 2')\n",
    "    activation = c2.eval(session=sess)\n",
    "    outputFeatureMap(activation, 16,8)\n",
    "    plt.show()\n",
    "    \n",
    "    print('Layer 3')\n",
    "    activation = c3.eval(session=sess)\n",
    "    outputFeatureMap(activation, 16,16)\n",
    "    plt.show()"
   ]
  },
  {
   "cell_type": "code",
   "execution_count": null,
   "metadata": {
    "collapsed": true
   },
   "outputs": [],
   "source": []
  }
 ],
 "metadata": {
  "anaconda-cloud": {},
  "kernelspec": {
   "display_name": "Python 3",
   "language": "python",
   "name": "python3"
  },
  "language_info": {
   "codemirror_mode": {
    "name": "ipython",
    "version": 3
   },
   "file_extension": ".py",
   "mimetype": "text/x-python",
   "name": "python",
   "nbconvert_exporter": "python",
   "pygments_lexer": "ipython3",
   "version": "3.5.2"
  },
  "widgets": {
   "state": {},
   "version": "1.1.2"
  }
 },
 "nbformat": 4,
 "nbformat_minor": 1
}
